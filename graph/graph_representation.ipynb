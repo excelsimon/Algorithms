{
 "cells": [
  {
   "cell_type": "markdown",
   "metadata": {},
   "source": [
    "# graph图的Python表示\n",
    "- 邻接表\n",
    "- 邻接矩阵"
   ]
  },
  {
   "cell_type": "markdown",
   "metadata": {},
   "source": [
    "## 邻接表"
   ]
  },
  {
   "cell_type": "markdown",
   "metadata": {},
   "source": [
    "### adjacency lists 表示形式"
   ]
  },
  {
   "cell_type": "code",
   "execution_count": 2,
   "metadata": {
    "collapsed": false
   },
   "outputs": [
    {
     "name": "stdout",
     "output_type": "stream",
     "text": [
      "True\n",
      "3\n"
     ]
    }
   ],
   "source": [
    "# A Straightforward Adjacency List Representation\n",
    "a, b, c, d, e, f, g, h = range(8)\n",
    "N = [\n",
    "    [b, c, d, e, f],    # a\n",
    "    [c, e],             # b\n",
    "    [d],                # c\n",
    "    [e],                # d\n",
    "    [f],                # e\n",
    "    [c, g, h],          # f\n",
    "    [f, h],             # g\n",
    "    [f, g]              # h\n",
    "]\n",
    "\n",
    "print(b in N[a]) # Neighborhood membership -> True\n",
    "print(len(N[f])) # Degree -> 3"
   ]
  },
  {
   "cell_type": "markdown",
   "metadata": {},
   "source": [
    "### adjacency sets 表示形式"
   ]
  },
  {
   "cell_type": "code",
   "execution_count": 4,
   "metadata": {
    "collapsed": false
   },
   "outputs": [
    {
     "name": "stdout",
     "output_type": "stream",
     "text": [
      "True\n",
      "3\n"
     ]
    }
   ],
   "source": [
    "# A Straightforward Adjacency Set Representation\n",
    "a, b, c, d, e, f, g, h = range(8)\n",
    "N = [\n",
    "    {b, c, d, e, f},    # a\n",
    "    {c, e},             # b\n",
    "    {d},                # c\n",
    "    {e},                # d\n",
    "    {f},                # e\n",
    "    {c, g, h},          # f\n",
    "    {f, h},             # g\n",
    "    {f, g}              # h\n",
    "]\n",
    "\n",
    "print(b in N[a]) # Neighborhood membership -> True\n",
    "print(len(N[f])) # Degree -> 3"
   ]
  },
  {
   "cell_type": "markdown",
   "metadata": {},
   "source": [
    "### adjacency dicts 表示形式，这种情况下如果边是带权值的都没有问题！"
   ]
  },
  {
   "cell_type": "code",
   "execution_count": 6,
   "metadata": {
    "collapsed": false
   },
   "outputs": [
    {
     "name": "stdout",
     "output_type": "stream",
     "text": [
      "True\n",
      "3\n",
      "2\n"
     ]
    }
   ],
   "source": [
    "# A Straightforward Adjacency Dict Representation\n",
    "a, b, c, d, e, f, g, h = range(8)\n",
    "N = [\n",
    "    {b:2, c:1, d:3, e:9, f:4},    # a\n",
    "    {c:4, e:3},                   # b\n",
    "    {d:8},                        # c\n",
    "    {e:7},                        # d\n",
    "    {f:5},                        # e\n",
    "    {c:2, g:2, h:2},              # f\n",
    "    {f:1, h:6},                   # g\n",
    "    {f:9, g:8}                    # h\n",
    "]\n",
    "\n",
    "print(b in N[a]) # Neighborhood membership -> True\n",
    "print(len(N[f])) # Degree -> 3\n",
    "print(N[a][b]) # Edge weight for (a, b) -> 2"
   ]
  },
  {
   "cell_type": "markdown",
   "metadata": {},
   "source": [
    "#### 除了上面三种方式外，还可以改变外层数据结构，上面三个都是list，其实也可以使用dict，例如下面的代码，此时节点是用字母表示的。在实际应用中，要根据问题选择最合适的表示形式。"
   ]
  },
  {
   "cell_type": "code",
   "execution_count": 7,
   "metadata": {
    "collapsed": true
   },
   "outputs": [],
   "source": [
    "N = {\n",
    "    'a': set('bcdef'),\n",
    "    'b': set('ce'),\n",
    "    'c': set('d'),\n",
    "    'd': set('e'),\n",
    "    'e': set('f'),\n",
    "    'f': set('cgh'),\n",
    "    'g': set('fh'),\n",
    "    'h': set('fg')\n",
    "}"
   ]
  },
  {
   "cell_type": "markdown",
   "metadata": {},
   "source": [
    "## 邻接矩阵"
   ]
  },
  {
   "cell_type": "code",
   "execution_count": 9,
   "metadata": {
    "collapsed": false
   },
   "outputs": [
    {
     "name": "stdout",
     "output_type": "stream",
     "text": [
      "1\n"
     ]
    },
    {
     "data": {
      "text/plain": [
       "3"
      ]
     },
     "execution_count": 9,
     "metadata": {},
     "output_type": "execute_result"
    }
   ],
   "source": [
    "# An Adjacency Matrix, Implemented with Nested Lists\n",
    "a, b, c, d, e, f, g, h = range(8)\n",
    "N = [[0,1,1,1,1,1,0,0], # a\n",
    "     [0,0,1,0,1,0,0,0], # b\n",
    "     [0,0,0,1,0,0,0,0], # c\n",
    "     [0,0,0,0,1,0,0,0], # d\n",
    "     [0,0,0,0,0,1,0,0], # e\n",
    "     [0,0,1,0,0,0,1,1], # f\n",
    "     [0,0,0,0,0,1,0,1], # g\n",
    "     [0,0,0,0,0,1,1,0]] # h\n",
    "\n",
    "print(N[a][b]) # Neighborhood membership -> 1\n",
    "sum(N[f]) # Degree -> 3"
   ]
  },
  {
   "cell_type": "code",
   "execution_count": 14,
   "metadata": {
    "collapsed": false
   },
   "outputs": [
    {
     "name": "stdout",
     "output_type": "stream",
     "text": [
      "True\n",
      "7\n"
     ]
    }
   ],
   "source": [
    "a, b, c, d, e, f, g, h = range(8)\n",
    "inf = float('inf')  #表示正无穷\n",
    "\n",
    "W = [[0,2,1,3,9,4,_,_], # a\n",
    "     [_,0,4,_,3,_,_,_], # b\n",
    "     [_,_,0,8,_,_,_,_], # c\n",
    "     [_,_,_,0,7,_,_,_], # d\n",
    "     [_,_,_,_,0,5,_,_], # e\n",
    "     [_,_,2,_,_,0,2,2], # f\n",
    "     [_,_,_,_,_,1,0,6], # g\n",
    "     [_,_,_,_,_,9,8,0]] # h\n",
    "\n",
    "print(W[a][b] < inf) # Neighborhood membership  距离小于无穷大，表示联通\n",
    "print(sum(1 for w in W[a] if w < inf) - 1)  # Degree  -1是去掉自身"
   ]
  },
  {
   "cell_type": "code",
   "execution_count": null,
   "metadata": {
    "collapsed": true
   },
   "outputs": [],
   "source": [
    ""
   ]
  }
 ],
 "metadata": {
  "kernelspec": {
   "display_name": "Python 3",
   "language": "python",
   "name": "python3"
  },
  "language_info": {
   "codemirror_mode": {
    "name": "ipython",
    "version": 3.0
   },
   "file_extension": ".py",
   "mimetype": "text/x-python",
   "name": "python",
   "nbconvert_exporter": "python",
   "pygments_lexer": "ipython3",
   "version": "3.5.1"
  }
 },
 "nbformat": 4,
 "nbformat_minor": 0
}